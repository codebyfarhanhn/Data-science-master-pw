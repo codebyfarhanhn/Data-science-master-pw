{
 "cells": [
  {
   "cell_type": "code",
   "execution_count": 1,
   "id": "ef8a061c-4774-458d-9603-dace95a65470",
   "metadata": {},
   "outputs": [
    {
     "data": {
      "text/plain": [
       "1.3333333333333333"
      ]
     },
     "execution_count": 1,
     "metadata": {},
     "output_type": "execute_result"
    }
   ],
   "source": [
    "#1) / gives the division of the two numbers \n",
    "a=4\n",
    "b=3\n",
    "a/b\n",
    "# which means the division result is "
   ]
  },
  {
   "cell_type": "code",
   "execution_count": 2,
   "id": "ac926ed9-ce58-4e1a-acb3-44d9036c5544",
   "metadata": {},
   "outputs": [
    {
     "data": {
      "text/plain": [
       "1"
      ]
     },
     "execution_count": 2,
     "metadata": {},
     "output_type": "execute_result"
    }
   ],
   "source": [
    "#2) % gives the remainder after the division is done\n",
    "a%b\n",
    "# which means the remainder after the division is 1"
   ]
  },
  {
   "cell_type": "code",
   "execution_count": 3,
   "id": "4ba682ac-235d-4146-888a-521971237af3",
   "metadata": {},
   "outputs": [
    {
     "data": {
      "text/plain": [
       "1"
      ]
     },
     "execution_count": 3,
     "metadata": {},
     "output_type": "execute_result"
    }
   ],
   "source": [
    "#3) // gives the floor division of two numbers which means the answer will be division without the decimal part\n",
    "a//b\n",
    "# 1 came from 1.3333 with decimal part excuded"
   ]
  },
  {
   "cell_type": "code",
   "execution_count": 4,
   "id": "ca8dc001-1e15-44a5-ba5b-af3bb1ddbdcc",
   "metadata": {},
   "outputs": [
    {
     "data": {
      "text/plain": [
       "64"
      ]
     },
     "execution_count": 4,
     "metadata": {},
     "output_type": "execute_result"
    }
   ],
   "source": [
    "#4) ** is power operator used to find power of a number\n",
    "a**b\n",
    "# is essentailly a to the power b"
   ]
  },
  {
   "cell_type": "code",
   "execution_count": null,
   "id": "07eb8916-890c-4ff4-b5c5-256318a7542e",
   "metadata": {},
   "outputs": [],
   "source": []
  }
 ],
 "metadata": {
  "kernelspec": {
   "display_name": "Python 3 (ipykernel)",
   "language": "python",
   "name": "python3"
  },
  "language_info": {
   "codemirror_mode": {
    "name": "ipython",
    "version": 3
   },
   "file_extension": ".py",
   "mimetype": "text/x-python",
   "name": "python",
   "nbconvert_exporter": "python",
   "pygments_lexer": "ipython3",
   "version": "3.10.8"
  }
 },
 "nbformat": 4,
 "nbformat_minor": 5
}
