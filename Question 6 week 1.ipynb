{
 "cells": [
  {
   "cell_type": "code",
   "execution_count": 5,
   "id": "f5394989-de28-4911-9e0d-c2f7ffe4f7a3",
   "metadata": {},
   "outputs": [
    {
     "name": "stdout",
     "output_type": "stream",
     "text": [
      " 1 is not divisible by 3 \n",
      " 2 is not divisible by 3 \n",
      " 3 is divisible by 3 \n",
      " 4 is not divisible by 3 \n",
      " 5 is not divisible by 3 \n",
      " 6 is divisible by 3 \n",
      " 7 is not divisible by 3 \n",
      " 8 is not divisible by 3 \n",
      " 9 is divisible by 3 \n",
      " 10 is not divisible by 3 \n",
      " 11 is not divisible by 3 \n",
      " 12 is divisible by 3 \n",
      " 13 is not divisible by 3 \n",
      " 14 is not divisible by 3 \n",
      " 15 is divisible by 3 \n",
      " 16 is not divisible by 3 \n",
      " 17 is not divisible by 3 \n",
      " 18 is divisible by 3 \n",
      " 19 is not divisible by 3 \n",
      " 20 is not divisible by 3 \n",
      " 21 is divisible by 3 \n",
      " 22 is not divisible by 3 \n",
      " 23 is not divisible by 3 \n",
      " 24 is divisible by 3 \n",
      " 25 is not divisible by 3 \n"
     ]
    }
   ],
   "source": [
    "l=[1,2,3,4,5,6,7,8,9,10,11,12,13,14,15,16,17,18,19,20,21,22,23,24,25]\n",
    "i=0\n",
    "while i<25 :\n",
    "    if l[i]%3==0:\n",
    "        print(f\" {l[i]} is divisible by 3 \")\n",
    "    else :\n",
    "        print(f\" {l[i]} is not divisible by 3 \")\n",
    "    i=i+1\n",
    "    "
   ]
  }
 ],
 "metadata": {
  "kernelspec": {
   "display_name": "Python 3 (ipykernel)",
   "language": "python",
   "name": "python3"
  },
  "language_info": {
   "codemirror_mode": {
    "name": "ipython",
    "version": 3
   },
   "file_extension": ".py",
   "mimetype": "text/x-python",
   "name": "python",
   "nbconvert_exporter": "python",
   "pygments_lexer": "ipython3",
   "version": "3.10.8"
  }
 },
 "nbformat": 4,
 "nbformat_minor": 5
}
