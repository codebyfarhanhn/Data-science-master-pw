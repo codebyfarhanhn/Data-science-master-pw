{
 "cells": [
  {
   "cell_type": "code",
   "execution_count": 9,
   "id": "e0c70936-dc19-476b-bfd3-9db2489fd463",
   "metadata": {},
   "outputs": [
    {
     "name": "stdin",
     "output_type": "stream",
     "text": [
      " 345\n",
      " 5\n"
     ]
    },
    {
     "name": "stdout",
     "output_type": "stream",
     "text": [
      "345 is divisible by 5\n",
      "345 is divisible 1 times by 5\n"
     ]
    }
   ],
   "source": [
    "# divisibility test\n",
    "a= int(input())\n",
    "b= int(input())\n",
    "if a%b==0:\n",
    "    print (f\"{a} is divisible by {b}\")\n",
    "else :\n",
    "    print (f\"{a} is not divisible by {b}\")\n",
    "i=0\n",
    "x=a\n",
    "while x%b==0:\n",
    "    i=i+1\n",
    "    x=x//b\n",
    "    if x==b:\n",
    "        break\n",
    " \n",
    "print(f\"{a} is divisible {i} times by {b}\")     \n",
    "    \n",
    " "
   ]
  },
  {
   "cell_type": "code",
   "execution_count": null,
   "id": "7f2c18bf-0144-4bf5-a126-ccceded9cabf",
   "metadata": {},
   "outputs": [],
   "source": []
  }
 ],
 "metadata": {
  "kernelspec": {
   "display_name": "Python 3 (ipykernel)",
   "language": "python",
   "name": "python3"
  },
  "language_info": {
   "codemirror_mode": {
    "name": "ipython",
    "version": 3
   },
   "file_extension": ".py",
   "mimetype": "text/x-python",
   "name": "python",
   "nbconvert_exporter": "python",
   "pygments_lexer": "ipython3",
   "version": "3.10.8"
  }
 },
 "nbformat": 4,
 "nbformat_minor": 5
}
