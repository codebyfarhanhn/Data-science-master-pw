{
 "cells": [
  {
   "cell_type": "code",
   "execution_count": 1,
   "id": "7fd0db4a-c788-415b-a0fe-875224b4a8f6",
   "metadata": {},
   "outputs": [],
   "source": [
    "#1) string\n",
    "a=\"hello\" "
   ]
  },
  {
   "cell_type": "code",
   "execution_count": 2,
   "id": "a807ab94-837e-4a7d-bec2-0f9eff2f628d",
   "metadata": {},
   "outputs": [
    {
     "data": {
      "text/plain": [
       "str"
      ]
     },
     "execution_count": 2,
     "metadata": {},
     "output_type": "execute_result"
    }
   ],
   "source": [
    "type(a)"
   ]
  },
  {
   "cell_type": "code",
   "execution_count": 3,
   "id": "a0d621f4-e484-4360-b9bd-9a049c6622fb",
   "metadata": {},
   "outputs": [],
   "source": [
    "#2) list\n",
    "b=[1,2,3,a,'pw',2+4j]"
   ]
  },
  {
   "cell_type": "code",
   "execution_count": 4,
   "id": "837146f9-f293-4d0b-9215-5f1e9cc32556",
   "metadata": {},
   "outputs": [
    {
     "data": {
      "text/plain": [
       "list"
      ]
     },
     "execution_count": 4,
     "metadata": {},
     "output_type": "execute_result"
    }
   ],
   "source": [
    "type(b)"
   ]
  },
  {
   "cell_type": "code",
   "execution_count": 5,
   "id": "ede54aa5-dab5-406b-b077-f28487861d9e",
   "metadata": {},
   "outputs": [],
   "source": [
    "#3) Float\n",
    "c=35.5678"
   ]
  },
  {
   "cell_type": "code",
   "execution_count": 6,
   "id": "12023d80-b060-4d66-b718-aa85649125fe",
   "metadata": {},
   "outputs": [
    {
     "data": {
      "text/plain": [
       "float"
      ]
     },
     "execution_count": 6,
     "metadata": {},
     "output_type": "execute_result"
    }
   ],
   "source": [
    "type(c)"
   ]
  },
  {
   "cell_type": "code",
   "execution_count": 7,
   "id": "09d9adac-b6f3-470b-9ed3-3bd42ac7f662",
   "metadata": {},
   "outputs": [],
   "source": [
    "#4) Tuple\n",
    "d=(a,b,c)"
   ]
  },
  {
   "cell_type": "code",
   "execution_count": 8,
   "id": "c6c13915-43bf-45a6-8018-7de2b38d55fa",
   "metadata": {},
   "outputs": [
    {
     "data": {
      "text/plain": [
       "tuple"
      ]
     },
     "execution_count": 8,
     "metadata": {},
     "output_type": "execute_result"
    }
   ],
   "source": [
    "type(d)"
   ]
  },
  {
   "cell_type": "code",
   "execution_count": null,
   "id": "e1b92e45-c228-4db4-8d44-e7c93c4a3fd6",
   "metadata": {},
   "outputs": [],
   "source": []
  }
 ],
 "metadata": {
  "kernelspec": {
   "display_name": "Python 3 (ipykernel)",
   "language": "python",
   "name": "python3"
  },
  "language_info": {
   "codemirror_mode": {
    "name": "ipython",
    "version": 3
   },
   "file_extension": ".py",
   "mimetype": "text/x-python",
   "name": "python",
   "nbconvert_exporter": "python",
   "pygments_lexer": "ipython3",
   "version": "3.10.8"
  }
 },
 "nbformat": 4,
 "nbformat_minor": 5
}
