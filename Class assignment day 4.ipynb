{
 "cells": [
  {
   "cell_type": "code",
   "execution_count": 18,
   "id": "df851eeb-cbda-4933-8cfd-be7a1f72c4ed",
   "metadata": {},
   "outputs": [
    {
     "name": "stdout",
     "output_type": "stream",
     "text": [
      "2\n",
      "3\n",
      "5\n",
      "7\n",
      "23\n"
     ]
    }
   ],
   "source": [
    "l=[1,2,3,4,5,6,7,8,9,10,15,16,23,36]\n",
    "##to print prime numbers\n",
    "for i in l:\n",
    "    if i>2:\n",
    "        for j in range(2,i):\n",
    "            if i%j==0:\n",
    "                break\n",
    "        else : print(i)\n",
    "    else:  \n",
    "        if i==2 :\n",
    "            print(i)\n",
    "              \n",
    "                    \n",
    "                "
   ]
  },
  {
   "cell_type": "code",
   "execution_count": 38,
   "id": "3a3300f7-e3d3-49de-bc1d-8cff58b6cd86",
   "metadata": {},
   "outputs": [
    {
     "ename": "SyntaxError",
     "evalue": "unexpected character after line continuation character (1592521904.py, line 3)",
     "output_type": "error",
     "traceback": [
      "\u001b[0;36m  Cell \u001b[0;32mIn[38], line 3\u001b[0;36m\u001b[0m\n\u001b[0;31m    [[i,j]\\n for i in l for j in l ]\u001b[0m\n\u001b[0m           ^\u001b[0m\n\u001b[0;31mSyntaxError\u001b[0m\u001b[0;31m:\u001b[0m unexpected character after line continuation character\n"
     ]
    }
   ],
   "source": [
    "l = [1, 2, 3, 4, 5]\n",
    "## print all combination of two numbers in list format\n",
    "[[i,j] for i in l for j in l ]"
   ]
  },
  {
   "cell_type": "code",
   "execution_count": 26,
   "id": "2a25ff32-b18f-46db-8a9d-cac3b6469777",
   "metadata": {},
   "outputs": [
    {
     "name": "stdout",
     "output_type": "stream",
     "text": [
      "[[1,1][1,2][1,3][1,4][1,5][2,1][2,2][2,3][2,4][2,5][3,1][3,2][3,3][3,4][3,5][4,1][4,2][4,3][4,4][4,5][5,1][5,2][5,3][5,4][5,5]]\n"
     ]
    }
   ],
   "source": [
    "l = [1, 2, 3, 4, 5]\n",
    "\n",
    "# Print all combinations of two numbers\n",
    "print(\"[\", end=\"\")\n",
    "[print(f\"[{i},{j}]\", end=\"\") for i in l for j in l]\n",
    "print(\"]\")\n"
   ]
  },
  {
   "cell_type": "code",
   "execution_count": 27,
   "id": "80e03bc0-5d83-4421-a92f-a1ebbc016f2c",
   "metadata": {},
   "outputs": [
    {
     "name": "stdout",
     "output_type": "stream",
     "text": [
      "[1,1]\n",
      "[1,2]\n",
      "[1,3]\n",
      "[1,4]\n",
      "[1,5]\n",
      "[2,1]\n",
      "[2,2]\n",
      "[2,3]\n",
      "[2,4]\n",
      "[2,5]\n",
      "[3,1]\n",
      "[3,2]\n",
      "[3,3]\n",
      "[3,4]\n",
      "[3,5]\n",
      "[4,1]\n",
      "[4,2]\n",
      "[4,3]\n",
      "[4,4]\n",
      "[4,5]\n",
      "[5,1]\n",
      "[5,2]\n",
      "[5,3]\n",
      "[5,4]\n",
      "[5,5]\n"
     ]
    },
    {
     "data": {
      "text/plain": [
       "[None,\n",
       " None,\n",
       " None,\n",
       " None,\n",
       " None,\n",
       " None,\n",
       " None,\n",
       " None,\n",
       " None,\n",
       " None,\n",
       " None,\n",
       " None,\n",
       " None,\n",
       " None,\n",
       " None,\n",
       " None,\n",
       " None,\n",
       " None,\n",
       " None,\n",
       " None,\n",
       " None,\n",
       " None,\n",
       " None,\n",
       " None,\n",
       " None]"
      ]
     },
     "execution_count": 27,
     "metadata": {},
     "output_type": "execute_result"
    }
   ],
   "source": [
    "l = [1, 2, 3, 4, 5]\n",
    "\n",
    "# Print all combinations of two numbers\n",
    "[print(f\"[{i},{j}]\") for i in l for j in l]\n"
   ]
  },
  {
   "cell_type": "code",
   "execution_count": null,
   "id": "c4de38be-37ad-4353-9463-e668a0fd7601",
   "metadata": {},
   "outputs": [],
   "source": []
  }
 ],
 "metadata": {
  "kernelspec": {
   "display_name": "Python 3 (ipykernel)",
   "language": "python",
   "name": "python3"
  },
  "language_info": {
   "codemirror_mode": {
    "name": "ipython",
    "version": 3
   },
   "file_extension": ".py",
   "mimetype": "text/x-python",
   "name": "python",
   "nbconvert_exporter": "python",
   "pygments_lexer": "ipython3",
   "version": "3.10.8"
  }
 },
 "nbformat": 4,
 "nbformat_minor": 5
}
