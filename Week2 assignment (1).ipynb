{
 "cells": [
  {
   "cell_type": "code",
   "execution_count": 1,
   "id": "94f51af1-96f8-4440-b97e-bc92a70e7a35",
   "metadata": {},
   "outputs": [
    {
     "name": "stdout",
     "output_type": "stream",
     "text": [
      "Hello World\n"
     ]
    }
   ],
   "source": [
    "#Q1) This is a single-line comment in Python\n",
    "print(\"Hello World\") "
   ]
  },
  {
   "cell_type": "code",
   "execution_count": null,
   "id": "29a52aae-257b-4fa0-919e-85601f1e2444",
   "metadata": {},
   "outputs": [],
   "source": [
    "#There are two types of comments in python one is single line and other is double line comment\n",
    "# This is a single-line comment in Python\n",
    "\n",
    "\"\"\"\n",
    "This is a multi-line comment.\n",
    "It provides detailed documentation about the code element.\n",
    "It can span multiple lines and is enclosed in triple quotes.\n",
    "\"\"\""
   ]
  },
  {
   "cell_type": "code",
   "execution_count": null,
   "id": "f55f1a54-600e-4049-aa54-222bbc62468d",
   "metadata": {},
   "outputs": [],
   "source": [
    "#Q2)\n",
    "name = \"Farhan \"      # Variable declaration and assignment\n",
    "age = 20\n"
   ]
  },
  {
   "cell_type": "code",
   "execution_count": null,
   "id": "ebef5857-ccfd-4f9a-aee7-6b257f787611",
   "metadata": {},
   "outputs": [],
   "source": [
    "#Q3)To convert one data type to another in Python, you can use typecasting functions.\n",
    "x = 10          # x is an integer\n",
    "y = float(x)    # y is now a float (conversion from int to float)\n",
    "z = str(y)      # z is now a string (conversion from float to string)\n"
   ]
  },
  {
   "cell_type": "code",
   "execution_count": null,
   "id": "eadfa458-4f8a-4f1a-ad5c-a35444274c56",
   "metadata": {},
   "outputs": [],
   "source": [
    "#Q4) \n",
    "'''\n",
    "To write and execute a Python script from the command line, follow these steps:\n",
    "Open a text editor and write your Python script. Save the file with a .py extension, for example, \"script.py\".\n",
    "Open the command line interface on your operating system.\n",
    "Navigate to the directory where the Python script is saved using the cd command. For example, if the script is saved in the \"Documents\" folder, you can use the command cd Documents to navigate to that folder.\n",
    "Once you're in the correct directory, you can execute the Python script by entering the command python script.py in the command line. Replace \"script.py\" with the actual name of your Python script.\n",
    "\n",
    "'''"
   ]
  },
  {
   "cell_type": "code",
   "execution_count": 3,
   "id": "06eb5cfc-9c75-4847-b2f6-6bd7759d697b",
   "metadata": {},
   "outputs": [
    {
     "data": {
      "text/plain": [
       "[2, 3]"
      ]
     },
     "execution_count": 3,
     "metadata": {},
     "output_type": "execute_result"
    }
   ],
   "source": [
    "#Q5)\n",
    "my_list = [1, 2, 3, 4, 5]\n",
    "sub_list=my_list[1:3]\n",
    "sub_list\n"
   ]
  },
  {
   "cell_type": "code",
   "execution_count": 1,
   "id": "70b8190b-fc06-450e-bf50-97e326576b5b",
   "metadata": {},
   "outputs": [
    {
     "data": {
      "text/plain": [
       "complex"
      ]
     },
     "execution_count": 1,
     "metadata": {},
     "output_type": "execute_result"
    }
   ],
   "source": [
    "#6)\n",
    "''' Complex number in mathematics is that number which has an imaginary part associated with sqrt(-1) for eg:3+4i where i is sqrt(-1)'''\n",
    "complex=3+4j\n",
    "type(complex)\n"
   ]
  },
  {
   "cell_type": "code",
   "execution_count": 2,
   "id": "37f7133f-b32c-4196-852f-86e0c2e577c4",
   "metadata": {},
   "outputs": [
    {
     "data": {
      "text/plain": [
       "25"
      ]
     },
     "execution_count": 2,
     "metadata": {},
     "output_type": "execute_result"
    }
   ],
   "source": [
    "#7)\n",
    "'''The correct way to declare a variable named age and assign the value 25'''\n",
    "age=25\n",
    "age"
   ]
  },
  {
   "cell_type": "code",
   "execution_count": 3,
   "id": "90eebc5a-5576-40af-a66d-d35b625cfac8",
   "metadata": {},
   "outputs": [
    {
     "data": {
      "text/plain": [
       "float"
      ]
     },
     "execution_count": 3,
     "metadata": {},
     "output_type": "execute_result"
    }
   ],
   "source": [
    "#8)\n",
    "'''The correct way to represent price and assign 9.99 is'''\n",
    "price=9.99\n",
    "type(price)"
   ]
  },
  {
   "cell_type": "code",
   "execution_count": 4,
   "id": "f7aadc99-6fb9-4a96-a430-270675a01371",
   "metadata": {},
   "outputs": [
    {
     "name": "stdout",
     "output_type": "stream",
     "text": [
      "Farhan Hassan Noorudheen\n"
     ]
    }
   ],
   "source": [
    "#9)\n",
    "name=\"Farhan Hassan Noorudheen\"\n",
    "print(name)"
   ]
  },
  {
   "cell_type": "code",
   "execution_count": 24,
   "id": "eff6d4e0-d17c-40af-acf8-799eef7fb833",
   "metadata": {},
   "outputs": [
    {
     "data": {
      "text/plain": [
       "'World'"
      ]
     },
     "execution_count": 24,
     "metadata": {},
     "output_type": "execute_result"
    }
   ],
   "source": [
    "#10)\n",
    "given_string=\"Hello, World!\"\n",
    "given_string[-6:-1]"
   ]
  },
  {
   "cell_type": "code",
   "execution_count": 25,
   "id": "bf5021c1-9465-4c6f-b804-9e9caca6c70c",
   "metadata": {},
   "outputs": [
    {
     "data": {
      "text/plain": [
       "bool"
      ]
     },
     "execution_count": 25,
     "metadata": {},
     "output_type": "execute_result"
    }
   ],
   "source": [
    "#11)\n",
    "is_student=True\n",
    "type(is_student)"
   ]
  },
  {
   "cell_type": "code",
   "execution_count": null,
   "id": "80d468fd-2d31-4eae-944a-967885119ac2",
   "metadata": {},
   "outputs": [],
   "source": []
  }
 ],
 "metadata": {
  "kernelspec": {
   "display_name": "Python 3 (ipykernel)",
   "language": "python",
   "name": "python3"
  },
  "language_info": {
   "codemirror_mode": {
    "name": "ipython",
    "version": 3
   },
   "file_extension": ".py",
   "mimetype": "text/x-python",
   "name": "python",
   "nbconvert_exporter": "python",
   "pygments_lexer": "ipython3",
   "version": "3.10.8"
  }
 },
 "nbformat": 4,
 "nbformat_minor": 5
}
