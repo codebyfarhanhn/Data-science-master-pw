{
 "cells": [
  {
   "cell_type": "code",
   "execution_count": 1,
   "id": "7fd0db4a-c788-415b-a0fe-875224b4a8f6",
   "metadata": {},
   "outputs": [],
   "source": [
    "# Q1)\n",
    "\n",
    "#1) string\n",
    "a=\"hello\" "
   ]
  },
  {
   "cell_type": "code",
   "execution_count": 2,
   "id": "a807ab94-837e-4a7d-bec2-0f9eff2f628d",
   "metadata": {},
   "outputs": [
    {
     "data": {
      "text/plain": [
       "str"
      ]
     },
     "execution_count": 2,
     "metadata": {},
     "output_type": "execute_result"
    }
   ],
   "source": [
    "type(a)"
   ]
  },
  {
   "cell_type": "code",
   "execution_count": 3,
   "id": "a0d621f4-e484-4360-b9bd-9a049c6622fb",
   "metadata": {},
   "outputs": [],
   "source": [
    "#2) list\n",
    "b=[1,2,3,a,'pw',2+4j]"
   ]
  },
  {
   "cell_type": "code",
   "execution_count": 4,
   "id": "837146f9-f293-4d0b-9215-5f1e9cc32556",
   "metadata": {},
   "outputs": [
    {
     "data": {
      "text/plain": [
       "list"
      ]
     },
     "execution_count": 4,
     "metadata": {},
     "output_type": "execute_result"
    }
   ],
   "source": [
    "type(b)"
   ]
  },
  {
   "cell_type": "code",
   "execution_count": 5,
   "id": "ede54aa5-dab5-406b-b077-f28487861d9e",
   "metadata": {},
   "outputs": [],
   "source": [
    "#3) Float\n",
    "c=35.5678"
   ]
  },
  {
   "cell_type": "code",
   "execution_count": 6,
   "id": "12023d80-b060-4d66-b718-aa85649125fe",
   "metadata": {},
   "outputs": [
    {
     "data": {
      "text/plain": [
       "float"
      ]
     },
     "execution_count": 6,
     "metadata": {},
     "output_type": "execute_result"
    }
   ],
   "source": [
    "type(c)"
   ]
  },
  {
   "cell_type": "code",
   "execution_count": 7,
   "id": "09d9adac-b6f3-470b-9ed3-3bd42ac7f662",
   "metadata": {},
   "outputs": [],
   "source": [
    "#4) Tuple\n",
    "d=(a,b,c)"
   ]
  },
  {
   "cell_type": "code",
   "execution_count": 8,
   "id": "c6c13915-43bf-45a6-8018-7de2b38d55fa",
   "metadata": {},
   "outputs": [
    {
     "data": {
      "text/plain": [
       "tuple"
      ]
     },
     "execution_count": 8,
     "metadata": {},
     "output_type": "execute_result"
    }
   ],
   "source": [
    "type(d)"
   ]
  },
  {
   "cell_type": "code",
   "execution_count": 2,
   "id": "e1b92e45-c228-4db4-8d44-e7c93c4a3fd6",
   "metadata": {},
   "outputs": [
    {
     "data": {
      "text/plain": [
       "str"
      ]
     },
     "execution_count": 2,
     "metadata": {},
     "output_type": "execute_result"
    }
   ],
   "source": [
    "# Q2)\n",
    "\n",
    "#1) var1 = ''\n",
    "var1 = ''\n",
    "type(var1)"
   ]
  },
  {
   "cell_type": "code",
   "execution_count": 3,
   "id": "9d30e264-2291-443f-9e40-8e0b9c6b20bf",
   "metadata": {},
   "outputs": [
    {
     "data": {
      "text/plain": [
       "str"
      ]
     },
     "execution_count": 3,
     "metadata": {},
     "output_type": "execute_result"
    }
   ],
   "source": [
    "#2) var2 = '[ DS , ML , Python]'\n",
    "var2 = '[ DS , ML , Python]'\n",
    "type(var2)"
   ]
  },
  {
   "cell_type": "code",
   "execution_count": 4,
   "id": "37f82785-5391-464b-915d-575df5bef2bf",
   "metadata": {},
   "outputs": [
    {
     "data": {
      "text/plain": [
       "list"
      ]
     },
     "execution_count": 4,
     "metadata": {},
     "output_type": "execute_result"
    }
   ],
   "source": [
    "#3) var3 = [ 'DS' , 'ML' , 'Python' ]\n",
    "var3 = [ 'DS' , 'ML' , 'Python' ]\n",
    "type(var3)"
   ]
  },
  {
   "cell_type": "code",
   "execution_count": 5,
   "id": "d4c49f42-637e-4c37-8922-6dc0fc40c1e0",
   "metadata": {},
   "outputs": [
    {
     "data": {
      "text/plain": [
       "float"
      ]
     },
     "execution_count": 5,
     "metadata": {},
     "output_type": "execute_result"
    }
   ],
   "source": [
    "#4) var4 = 1.\n",
    "var4 = 1.\n",
    "type(var4)"
   ]
  },
  {
   "cell_type": "code",
   "execution_count": 6,
   "id": "deb7c5f6-1a6d-4344-b846-691f8b2cf9f7",
   "metadata": {},
   "outputs": [
    {
     "data": {
      "text/plain": [
       "1.3333333333333333"
      ]
     },
     "execution_count": 6,
     "metadata": {},
     "output_type": "execute_result"
    }
   ],
   "source": [
    "# Q3)\n",
    "\n",
    "#1) / gives the division of the two numbers \n",
    "a=4\n",
    "b=3\n",
    "a/b\n",
    "# which means the division result is "
   ]
  },
  {
   "cell_type": "code",
   "execution_count": 7,
   "id": "c222d5c8-8ddd-46cf-ae0f-17fd78aef031",
   "metadata": {},
   "outputs": [
    {
     "data": {
      "text/plain": [
       "1"
      ]
     },
     "execution_count": 7,
     "metadata": {},
     "output_type": "execute_result"
    }
   ],
   "source": [
    "#2) % gives the remainder after the division is done\n",
    "a%b\n",
    "# which means the remainder after the division is 1"
   ]
  },
  {
   "cell_type": "code",
   "execution_count": 8,
   "id": "626e547c-c002-419d-9174-25f652ddce65",
   "metadata": {},
   "outputs": [
    {
     "data": {
      "text/plain": [
       "1"
      ]
     },
     "execution_count": 8,
     "metadata": {},
     "output_type": "execute_result"
    }
   ],
   "source": [
    "#3) // gives the floor division of two numbers which means the answer will be division without the decimal part\n",
    "a//b\n",
    "# 1 came from 1.3333 with decimal part excuded"
   ]
  },
  {
   "cell_type": "code",
   "execution_count": 9,
   "id": "dc660e16-da0b-41d8-b617-cef59c2f8884",
   "metadata": {},
   "outputs": [
    {
     "data": {
      "text/plain": [
       "64"
      ]
     },
     "execution_count": 9,
     "metadata": {},
     "output_type": "execute_result"
    }
   ],
   "source": [
    "#4) ** is power operator used to find power of a number\n",
    "a**b\n",
    "# is essentailly a to the power b"
   ]
  },
  {
   "cell_type": "code",
   "execution_count": 11,
   "id": "d17a66d1-933a-4f51-8a77-fece64284b85",
   "metadata": {},
   "outputs": [
    {
     "name": "stdout",
     "output_type": "stream",
     "text": [
      "1\n",
      "<class 'int'>\n",
      "2\n",
      "<class 'int'>\n",
      "hi\n",
      "<class 'str'>\n",
      "(4+7j)\n",
      "<class 'complex'>\n",
      "5.667\n",
      "<class 'float'>\n",
      "6\n",
      "<class 'int'>\n",
      "7\n",
      "<class 'int'>\n",
      "8\n",
      "<class 'int'>\n",
      "9\n",
      "<class 'int'>\n",
      "0\n",
      "<class 'int'>\n"
     ]
    }
   ],
   "source": [
    "# Q4)\n",
    "\n",
    "# list of 10 elements\n",
    "l=[1,2,'hi',4+7j,5.667,6,7,8,9,0]\n",
    "i=0\n",
    "while 10>i:\n",
    "    print(l[i])\n",
    "    print(type(l[i]))\n",
    "    i=i+1"
   ]
  },
  {
   "cell_type": "code",
   "execution_count": 13,
   "id": "d31f647d-17b4-47c1-9460-9ad36f02b911",
   "metadata": {},
   "outputs": [
    {
     "name": "stdin",
     "output_type": "stream",
     "text": [
      " 8\n",
      " 4\n"
     ]
    },
    {
     "name": "stdout",
     "output_type": "stream",
     "text": [
      "8 is divisible by 4\n",
      "8 is divisible 1 times by 4\n"
     ]
    }
   ],
   "source": [
    "# Q5)\n",
    "\n",
    "# divisibility test\n",
    "a= int(input())\n",
    "b= int(input())\n",
    "if a%b==0:\n",
    "    print (f\"{a} is divisible by {b}\")\n",
    "else :\n",
    "    print (f\"{a} is not divisible by {b}\")\n",
    "i=0\n",
    "x=a\n",
    "while x%b==0:\n",
    "    i=i+1\n",
    "    x=x//b\n",
    "    if x==b:\n",
    "        break\n",
    " \n",
    "print(f\"{a} is divisible {i} times by {b}\")"
   ]
  },
  {
   "cell_type": "code",
   "execution_count": 14,
   "id": "8443042d-f149-4a39-b6de-ec859dae88ca",
   "metadata": {},
   "outputs": [
    {
     "name": "stdout",
     "output_type": "stream",
     "text": [
      " 1 is not divisible by 3 \n",
      " 2 is not divisible by 3 \n",
      " 3 is divisible by 3 \n",
      " 4 is not divisible by 3 \n",
      " 5 is not divisible by 3 \n",
      " 6 is divisible by 3 \n",
      " 7 is not divisible by 3 \n",
      " 8 is not divisible by 3 \n",
      " 9 is divisible by 3 \n",
      " 10 is not divisible by 3 \n",
      " 11 is not divisible by 3 \n",
      " 12 is divisible by 3 \n",
      " 13 is not divisible by 3 \n",
      " 14 is not divisible by 3 \n",
      " 15 is divisible by 3 \n",
      " 16 is not divisible by 3 \n",
      " 17 is not divisible by 3 \n",
      " 18 is divisible by 3 \n",
      " 19 is not divisible by 3 \n",
      " 20 is not divisible by 3 \n",
      " 21 is divisible by 3 \n",
      " 22 is not divisible by 3 \n",
      " 23 is not divisible by 3 \n",
      " 24 is divisible by 3 \n",
      " 25 is not divisible by 3 \n"
     ]
    }
   ],
   "source": [
    "# Q6)\n",
    "\n",
    "l=[1,2,3,4,5,6,7,8,9,10,11,12,13,14,15,16,17,18,19,20,21,22,23,24,25]\n",
    "i=0\n",
    "while i<25 :\n",
    "    if l[i]%3==0:\n",
    "        print(f\" {l[i]} is divisible by 3 \")\n",
    "    else :\n",
    "        print(f\" {l[i]} is not divisible by 3 \")\n",
    "    i=i+1"
   ]
  },
  {
   "cell_type": "code",
   "execution_count": 16,
   "id": "30e8c78b-7ce1-487f-ad35-2212e72fad14",
   "metadata": {},
   "outputs": [
    {
     "data": {
      "text/plain": [
       "[1, 2, 3, 4.56, 67, (4+5j)]"
      ]
     },
     "execution_count": 16,
     "metadata": {},
     "output_type": "execute_result"
    }
   ],
   "source": [
    "#Q7)\n",
    "\n",
    "# Mutable data types are those data types in which the elements corresponding to the index number can be replaced\n",
    "# Immutable data types are those data types in which element cant be repleced\n",
    "\n",
    "# Example for mutable data type lists\n",
    "l=[1,2,3,4.56,'elements',4+5j]\n",
    "l[4]=67\n",
    "l"
   ]
  },
  {
   "cell_type": "code",
   "execution_count": null,
   "id": "0b352c81-0fed-4f8f-aaed-91c6406d7913",
   "metadata": {},
   "outputs": [],
   "source": [
    "# Example for immutable data type string\n",
    "a='helloguys'\n",
    "a[2]='x'\n",
    "a\n",
    "\n",
    "#If we run the code it will show error because string is immutable"
   ]
  }
 ],
 "metadata": {
  "kernelspec": {
   "display_name": "Python 3 (ipykernel)",
   "language": "python",
   "name": "python3"
  },
  "language_info": {
   "codemirror_mode": {
    "name": "ipython",
    "version": 3
   },
   "file_extension": ".py",
   "mimetype": "text/x-python",
   "name": "python",
   "nbconvert_exporter": "python",
   "pygments_lexer": "ipython3",
   "version": "3.10.8"
  }
 },
 "nbformat": 4,
 "nbformat_minor": 5
}
